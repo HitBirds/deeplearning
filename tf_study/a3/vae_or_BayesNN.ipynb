{
 "cells": [
  {
   "cell_type": "markdown",
   "metadata": {},
   "source": [
    "Variational AutoEncoder by using tf.contrib.distributions.MultivariateNormalDiag\n",
    "Q:李航 统计学方法 P155 EM算法的M步更新参数公式是怎么推出来的?"
   ]
  },
  {
   "cell_type": "code",
   "execution_count": 1,
   "metadata": {},
   "outputs": [],
   "source": [
    "import tensorflow as tf\n",
    "tfd = tf.contrib.distributions\n",
    "images = tf.placeholder(tf.float32,[None,28,28])"
   ]
  },
  {
   "cell_type": "code",
   "execution_count": null,
   "metadata": {},
   "outputs": [],
   "source": [
    "#设p(z|x)服从标准正态,p(z|x)\n",
    "def make_prior(code_size = 2):\n",
    "    mean, stddev = tf.zeros([code_size]),tf.ones([code_size])\n",
    "    return tfd.MultivariateNormalDiag(mean, stddev)\n",
    "\n",
    "#猜测q(z)分布的参数\n",
    "def make_encoder(images, code_size = 2):\n",
    "    images = tf.layers.flatten(images)\n",
    "    hidden = tf.layers.dense(images, 100, tf.nn.relu)\n",
    "    mean = tf.layers.dense(hidden, code_size)\n",
    "    stddev = tf.layers.dense(hidden, code_size, tf.nn.softplus)\n",
    "    return tfd.MultivariateNormalDiag(mean, stddev)\n",
    "\n",
    "def make_decoder(code, data_shape=[28,28]):\n",
    "    hidden = tf.layers.dense(code, 100, tf.nn.relu)\n",
    "    logit = tf.layers.dense(hidden, np.prod(data_shape))\n",
    "    logit = tf.reshape(logit, [-1]+data_shape)\n",
    "    return tfd.Independent(tfd.Bernoulli(logit),len(data_shape))"
   ]
  },
  {
   "cell_type": "code",
   "execution_count": null,
   "metadata": {},
   "outputs": [],
   "source": [
    "#假设p(z)是标准正态分布\n",
    "prior = make_prior()\n",
    "#x->q(z)\n",
    "posterior = make_encoder(images)\n",
    "#用sample采样q(z),然后假定p(z|x)=q(z),建模p(x|z)\n",
    "dist = make_decoder(posterior.sample())\n",
    "\n",
    "#推断网络目标使q(z)接近p(z|x)等价于maxELBO\n",
    "#生成网络目标使ELBO接近logP,等价于maxELBO\n",
    "#ELBO等价于E(期望q)[logP(x|z)]-KL(p(z)||q(z))\n",
    "#然后什么SGVB AEVB算法求变分下界就orz了\n",
    "elbo = dist.log_prob(images) - tfd.kl_divergence(posterior, prior)\n",
    "optimize = tf.train.AdamOptimizer().minimize(-elbo)\n",
    "#采样生成网络的p(z)得到可视化图片\n",
    "samples = make_decoder(prior.sample(10)).mean()\n"
   ]
  },
  {
   "cell_type": "markdown",
   "metadata": {},
   "source": [
    "既然假设了p(z)服从标准正态,为什么还需要网络的推断部分q(z),就是为了"
   ]
  }
 ],
 "metadata": {
  "kernelspec": {
   "display_name": "Python 3",
   "language": "python",
   "name": "python3"
  },
  "language_info": {
   "codemirror_mode": {
    "name": "ipython",
    "version": 3
   },
   "file_extension": ".py",
   "mimetype": "text/x-python",
   "name": "python",
   "nbconvert_exporter": "python",
   "pygments_lexer": "ipython3",
   "version": "3.5.5"
  }
 },
 "nbformat": 4,
 "nbformat_minor": 2
}
