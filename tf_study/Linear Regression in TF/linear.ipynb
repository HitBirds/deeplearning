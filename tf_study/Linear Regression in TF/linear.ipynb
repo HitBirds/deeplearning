{
 "cells": [
  {
   "cell_type": "code",
   "execution_count": 67,
   "metadata": {},
   "outputs": [
    {
     "name": "stdout",
     "output_type": "stream",
     "text": [
      "[5.287] [55.585587]\n"
     ]
    }
   ],
   "source": [
    "import os\n",
    "import time\n",
    "\n",
    "import numpy as np\n",
    "import matplotlib.pyplot as plt\n",
    "import tensorflow as tf\n",
    "\n",
    "import utils\n",
    "tf.reset_default_graph()\n",
    "#1.read data in\n",
    "DATA_FILE = 'data/birth_life_2010.txt'\n",
    "data, n_samples = utils.read_birth_life_data(DATA_FILE)\n",
    "for a,b in data[-2:-1]:\n",
    "    print([a],[b])"
   ]
  },
  {
   "cell_type": "code",
   "execution_count": null,
   "metadata": {
    "collapsed": true
   },
   "outputs": [],
   "source": [
    "#2.create placeholders for X(birth_rate) and Y (life_expectancy) \n",
    "X, Y = tf.placeholder(tf.float32,[1],name='birth_rate'),tf.placeholder(tf.float32,[1],name='life_expectancy')"
   ]
  },
  {
   "cell_type": "code",
   "execution_count": 70,
   "metadata": {
    "collapsed": true
   },
   "outputs": [],
   "source": [
    "#3.create weight and bias\n",
    "w, b = tf.get_variable(name='weights',shape=[1],dtype = tf.float32),tf.get_variable(name='bias',shape=[1],dtype=tf.float32)\n",
    "\n",
    "#4.build model to predict Y\n",
    "Y_predicted = w * X + b\n",
    "\n",
    "#5.use the square error as the loss function\n",
    "loss = tf.square(Y-Y_predicted,name='loss')\n",
    "\n",
    "#6.using gradient descent with learning rate of 0.001 to minimize loss\n",
    "optimizer = tf.train.GradientDescentOptimizer(learning_rate = 0.001).minimize(loss)"
   ]
  },
  {
   "cell_type": "code",
   "execution_count": null,
   "metadata": {
    "collapsed": true
   },
   "outputs": [],
   "source": [
    "start = time.time()\n",
    "\n",
    "# Create a filewriter to write the model's graph to TensorBoard\n",
    "writer = tf.summary.FileWriter('./graphs/linear_reg',tf.get_default_graph())\n",
    "\n",
    "with tf.Session() as sess:\n",
    "    #step 7:initialize the necessary varivables\n",
    "    sess.run(tf.variables_initializer([w,b]))\n",
    "    \n",
    "    #step 8:train the model for 100 epochs\n",
    "    for i in range(100):\n",
    "        total_loss = 0\n",
    "        for x,y in data:\n",
    "            _,loss_ = sess.run([optimizer,loss],{X:[x],Y:[y]})\n",
    "            total_loss  += loss_\n",
    "        print('Epoch {0}:{1}'.format(i,total_loss/n_samples))\n",
    "    \n",
    "    #step 9: output the values of w and b\n",
    "    w_out,b_out = w.eval(),b.eval()\n",
    "    print(w_out,b_out)\n",
    "writer.close()\n",
    "print('Took: %f seconds' %(time.time() - start))"
   ]
  },
  {
   "cell_type": "code",
   "execution_count": null,
   "metadata": {
    "collapsed": true,
    "scrolled": true
   },
   "outputs": [],
   "source": [
    "tf.shape(1)"
   ]
  },
  {
   "cell_type": "code",
   "execution_count": null,
   "metadata": {
    "collapsed": true
   },
   "outputs": [],
   "source": [
    "plt.plot(data[:,0],data[:,1],'bo',label = 'Real data')\n",
    "plt.plot(data[:,0],data[:,0] * w_out + b_out,'r',label='Predicted data')\n",
    "plt.legend()\n",
    "plt.show()"
   ]
  },
  {
   "cell_type": "code",
   "execution_count": 71,
   "metadata": {
    "collapsed": true
   },
   "outputs": [],
   "source": [
    "def huber_loss(labels,predictions,delta = 14.0):\n",
    "    residual = tf.abs(labels-predictions)\n",
    "    def f1():return 0.5*tf.square(residual)\n",
    "    def f2():return delta*residual-0.5*tf.square(delta)\n",
    "    return tf.cond(residual<delta,f1,f2)"
   ]
  },
  {
   "cell_type": "code",
   "execution_count": null,
   "metadata": {
    "collapsed": true
   },
   "outputs": [],
   "source": [
    "tf.reshape([1],[])"
   ]
  },
  {
   "cell_type": "code",
   "execution_count": 72,
   "metadata": {
    "collapsed": true
   },
   "outputs": [],
   "source": [
    "h_loss = huber_loss(tf.reshape(Y,[]),tf.reshape(Y_predicted,[]))\n",
    "optimizer = tf.train.GradientDescentOptimizer(learning_rate=0.001).minimize(h_loss)"
   ]
  },
  {
   "cell_type": "code",
   "execution_count": null,
   "metadata": {
    "collapsed": true
   },
   "outputs": [],
   "source": [
    "with tf.Session() as sess:\n",
    "    sess.run(tf.variables_initializer([w,b]))\n",
    "    for i in range(100):\n",
    "        for x,y in data:\n",
    "            sess.run(optimizer,feed_dict={X:[x],Y:[y]})\n",
    "    print(w.eval(),b.eval())"
   ]
  },
  {
   "cell_type": "markdown",
   "metadata": {},
   "source": [
    "tf.data.Dataset.from_tensor_slices((features,labels))\n",
    "tf.data.Dataset.from_generator(gen,output_types,output_shapes)  \n",
    "用Dataset就不要再构筑X,Y变量了"
   ]
  },
  {
   "cell_type": "code",
   "execution_count": 68,
   "metadata": {
    "collapsed": true
   },
   "outputs": [],
   "source": [
    "dataset = tf.data.Dataset.from_tensor_slices((data[:,0],data[:,1]))"
   ]
  },
  {
   "cell_type": "code",
   "execution_count": null,
   "metadata": {
    "collapsed": true
   },
   "outputs": [],
   "source": [
    "print(dataset.output_types)"
   ]
  },
  {
   "cell_type": "code",
   "execution_count": null,
   "metadata": {
    "collapsed": true
   },
   "outputs": [],
   "source": [
    "print(dataset.output_shapes)"
   ]
  },
  {
   "cell_type": "markdown",
   "metadata": {},
   "source": [
    "tf.data.TextLineDataset(filename)\n",
    "tf.data.FixedLengthRecordDataset(filename)\n",
    "tf.data.TFRecordDataset(filename)\n",
    "create an iterator to iterate through samples in Dataset\n",
    "## iterates through the dataset exactly once.No need to initialize\n",
    "iterator = dataset.make_one_shot_iterator()\n",
    "## iterates through the dataset as many times as we want.Need to initialize with each epoch\n",
    "iterator = dataset.make_initializable_iterator()"
   ]
  },
  {
   "cell_type": "code",
   "execution_count": null,
   "metadata": {
    "collapsed": true
   },
   "outputs": [],
   "source": [
    "iterator = dataset.make_one_shot_iterator()\n",
    "X,Y = iterator.get_next()\n",
    "with tf.Session() as sess:\n",
    "    print(sess.run([X,Y]))\n",
    "    print(sess.run([X,Y]))\n",
    "    print(sess.run([X,Y]))"
   ]
  },
  {
   "cell_type": "code",
   "execution_count": null,
   "metadata": {
    "collapsed": true
   },
   "outputs": [],
   "source": [
    "tf.shape(X)"
   ]
  },
  {
   "cell_type": "code",
   "execution_count": null,
   "metadata": {
    "collapsed": true
   },
   "outputs": [],
   "source": [
    "tf.reshape(X,[1])"
   ]
  },
  {
   "cell_type": "code",
   "execution_count": null,
   "metadata": {
    "collapsed": true
   },
   "outputs": [],
   "source": [
    "tf.shape(Y)"
   ]
  },
  {
   "cell_type": "code",
   "execution_count": 69,
   "metadata": {
    "collapsed": true
   },
   "outputs": [],
   "source": [
    "iterator = dataset.make_initializable_iterator()\n",
    "X,Y = iterator.get_next()"
   ]
  },
  {
   "cell_type": "code",
   "execution_count": 75,
   "metadata": {
    "collapsed": true
   },
   "outputs": [],
   "source": [
    "with tf.Session() as sess:\n",
    "    for i in range(100):\n",
    "        sess.run(tf.variables_initializer([w,b]))\n",
    "        sess.run(iterator.initializer)\n",
    "        total_loss = 0\n",
    "        try:\n",
    "            while True:\n",
    "                sess.run([optimizer])\n",
    "        except tf.errors.OutOfRangeError:\n",
    "            pass"
   ]
  },
  {
   "cell_type": "markdown",
   "metadata": {},
   "source": [
    "dataset = dataset.shuffle(1000)\n",
    "dataset = dataset.repeat(100)\n",
    "dataset = dataset.batch(128)\n",
    "dataset = dataset.map(lambda x:tf.one_hot(x,10))"
   ]
  },
  {
   "cell_type": "code",
   "execution_count": null,
   "metadata": {
    "collapsed": true
   },
   "outputs": [],
   "source": []
  }
 ],
 "metadata": {
  "kernelspec": {
   "display_name": "Python 2",
   "language": "python",
   "name": "python2"
  },
  "language_info": {
   "codemirror_mode": {
    "name": "ipython",
    "version": 2
   },
   "file_extension": ".py",
   "mimetype": "text/x-python",
   "name": "python",
   "nbconvert_exporter": "python",
   "pygments_lexer": "ipython2",
   "version": "2.7.13"
  }
 },
 "nbformat": 4,
 "nbformat_minor": 2
}
